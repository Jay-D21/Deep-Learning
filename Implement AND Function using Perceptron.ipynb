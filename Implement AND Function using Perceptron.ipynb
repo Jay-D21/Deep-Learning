{
  "nbformat": 4,
  "nbformat_minor": 0,
  "metadata": {
    "colab": {
      "provenance": [],
      "collapsed_sections": [
        "NprN0phLUL7q",
        "hR3dTXsFU8J6",
        "CF7eKSocXmNa",
        "s_rywDFjaws8",
        "_XvSwB2Yb33I"
      ],
      "authorship_tag": "ABX9TyPMtsfPed7Uf76htoRCpPRD",
      "include_colab_link": true
    },
    "kernelspec": {
      "name": "python3",
      "display_name": "Python 3"
    },
    "language_info": {
      "name": "python"
    }
  },
  "cells": [
    {
      "cell_type": "markdown",
      "metadata": {
        "id": "view-in-github",
        "colab_type": "text"
      },
      "source": [
        "<a href=\"https://colab.research.google.com/github/Jay-D21/Deep-Learning/blob/main/Implement%20AND%20Function%20using%20Perceptron.ipynb\" target=\"_parent\"><img src=\"https://colab.research.google.com/assets/colab-badge.svg\" alt=\"Open In Colab\"/></a>"
      ]
    },
    {
      "cell_type": "markdown",
      "source": [
        "#We are gonna follow steps given below :\n",
        "* Input Setup\n",
        "* Perceptron function and thresholding\n",
        "* Training via perceptron update rule\n",
        "* Tabulate training log\n",
        "* Visualization of the decision boundary"
      ],
      "metadata": {
        "id": "X02jWak8UmfB"
      }
    },
    {
      "cell_type": "markdown",
      "source": [
        "#Imports and Initialization\n"
      ],
      "metadata": {
        "id": "NprN0phLUL7q"
      }
    },
    {
      "cell_type": "code",
      "source": [
        "import numpy as np\n",
        "import matplotlib.pyplot as plt\n",
        "import tensorflow as tf\n",
        "from tabulate import tabulate"
      ],
      "metadata": {
        "id": "yIKfB25CUaOk"
      },
      "execution_count": null,
      "outputs": []
    },
    {
      "cell_type": "markdown",
      "source": [
        "#Define inputs and weights"
      ],
      "metadata": {
        "id": "hR3dTXsFU8J6"
      }
    },
    {
      "cell_type": "code",
      "source": [
        "#Define inputs and expected outputs for AND gate\n",
        "x1 = np.array([1,1,-1,-1])\n",
        "x2 = np.array([1,-1,1,-1])\n",
        "y = np.array([1,-1,-1,-1]) #AND gate expected outputs\n",
        "\n",
        "#Initalize weights and bias as Tenserflow variables\n",
        "w1 = tf.Variable(0.0, dtype=tf.float32)\n",
        "w2 = tf.Variable(0.0, dtype=tf.float32)\n",
        "b = tf.Variable(0.0, dtype=tf.float32)\n",
        "\n",
        "#Threshold (used in activation function)\n",
        "theta = tf.constant(0.0, dtype=tf.float32)"
      ],
      "metadata": {
        "id": "YeH3xtdcU_g5"
      },
      "execution_count": null,
      "outputs": []
    },
    {
      "cell_type": "markdown",
      "source": [
        "Perceptron and Threshold Logic"
      ],
      "metadata": {
        "id": "SPtVDG3gWtQs"
      }
    },
    {
      "cell_type": "code",
      "source": [
        "#compute weighted sum (yin) using perceptron rule\n",
        "def perceptron(x1,x2, w1, w2, b):\n",
        "  return (w1*x1 + w2*x2 + b)\n",
        "\n",
        "#Apply threshold activation to convert to output class\n",
        "def calculated(yin, theta):\n",
        "  if yin >= theta:\n",
        "    return 1\n",
        "  else:\n",
        "    return -1"
      ],
      "metadata": {
        "id": "hR-e7svSVGLO"
      },
      "execution_count": null,
      "outputs": []
    },
    {
      "cell_type": "markdown",
      "source": [
        "#Train Perceptron and collect Logs"
      ],
      "metadata": {
        "id": "CF7eKSocXmNa"
      }
    },
    {
      "cell_type": "code",
      "source": [
        "#Initialize table for storing training history\n",
        "table_data = []\n",
        "\n",
        "epoch = 3 #Number of training iterations\n",
        "alpha = 1 #Learning rate\n",
        "\n",
        "for i in range(epoch):\n",
        "  for j in range(4):\n",
        "    yin = perceptron(x1[j], x2[j], w1, w2, b)\n",
        "    yout = calculated(yin, theta)\n",
        "\n",
        "    #If prediction is wrong, update weight and bias\n",
        "    if yout != y[j]:\n",
        "      w1.assign_add(alpha*y[j]*x1[j])\n",
        "      w2.assign_add(alpha*y[j]*x2[j])\n",
        "      b.assign_add(alpha*y[j])\n",
        "\n",
        "    # Append the step's data to the teble\n",
        "    table_data.append([x1[j], x2[j], y[j], yout, w1.numpy(), w2.numpy(), b.numpy()])"
      ],
      "metadata": {
        "id": "TrY_ES7LXRlm"
      },
      "execution_count": null,
      "outputs": []
    },
    {
      "cell_type": "markdown",
      "source": [
        "#Show Table"
      ],
      "metadata": {
        "id": "s_rywDFjaws8"
      }
    },
    {
      "cell_type": "code",
      "source": [
        "# Print training history in table format\n",
        "headers = [\"x1\", \"x2\", \"y\", \"yout\", \"w1\", \"w2\", \"b\"]\n",
        "print(tabulate(table_data, headers=headers, tablefmt=\"grid\"))"
      ],
      "metadata": {
        "colab": {
          "base_uri": "https://localhost:8080/"
        },
        "id": "E4yz7eYEa6pS",
        "outputId": "6509cf11-4f9c-4312-9c97-761fd12e0adf"
      },
      "execution_count": null,
      "outputs": [
        {
          "output_type": "stream",
          "name": "stdout",
          "text": [
            "+------+------+-----+--------+------+------+-----+\n",
            "|   x1 |   x2 |   y |   yout |   w1 |   w2 |   b |\n",
            "+======+======+=====+========+======+======+=====+\n",
            "|    1 |    1 |   1 |      1 |    0 |    0 |   0 |\n",
            "+------+------+-----+--------+------+------+-----+\n",
            "|    1 |   -1 |  -1 |      1 |   -1 |    1 |  -1 |\n",
            "+------+------+-----+--------+------+------+-----+\n",
            "|   -1 |    1 |  -1 |      1 |    0 |    0 |  -2 |\n",
            "+------+------+-----+--------+------+------+-----+\n",
            "|   -1 |   -1 |  -1 |     -1 |    0 |    0 |  -2 |\n",
            "+------+------+-----+--------+------+------+-----+\n",
            "|    1 |    1 |   1 |     -1 |    1 |    1 |  -1 |\n",
            "+------+------+-----+--------+------+------+-----+\n",
            "|    1 |   -1 |  -1 |     -1 |    1 |    1 |  -1 |\n",
            "+------+------+-----+--------+------+------+-----+\n",
            "|   -1 |    1 |  -1 |     -1 |    1 |    1 |  -1 |\n",
            "+------+------+-----+--------+------+------+-----+\n",
            "|   -1 |   -1 |  -1 |     -1 |    1 |    1 |  -1 |\n",
            "+------+------+-----+--------+------+------+-----+\n",
            "|    1 |    1 |   1 |      1 |    1 |    1 |  -1 |\n",
            "+------+------+-----+--------+------+------+-----+\n",
            "|    1 |   -1 |  -1 |     -1 |    1 |    1 |  -1 |\n",
            "+------+------+-----+--------+------+------+-----+\n",
            "|   -1 |    1 |  -1 |     -1 |    1 |    1 |  -1 |\n",
            "+------+------+-----+--------+------+------+-----+\n",
            "|   -1 |   -1 |  -1 |     -1 |    1 |    1 |  -1 |\n",
            "+------+------+-----+--------+------+------+-----+\n"
          ]
        }
      ]
    },
    {
      "cell_type": "markdown",
      "source": [
        "#Plotting Decision Boundary\n"
      ],
      "metadata": {
        "id": "_XvSwB2Yb33I"
      }
    },
    {
      "cell_type": "code",
      "source": [
        "# Plot input data points\n",
        "for i in range(len(x1)):\n",
        "    if y[i] == 1:\n",
        "        plt.scatter(x1[i], x2[i], color='blue', label='Output: 1' if i == 0 else \"\") #Blue dot for [1,1] with label \"Output: 1\"\n",
        "    else:\n",
        "        plt.scatter(x1[i], x2[i], color='red', label='Output: -1' if i == 1 else \"\") #Red dots for [1, -1], [-1, 1], [-1, -1] with label \"Output: -1\" (only once)\n",
        "\n",
        "# Compute line: w1*x + w2*y + b = 0 → y = (-w1*x - b)/w2\n",
        "x_vals = np.linspace(-2, 2, 100)\n",
        "w1_val = w1.numpy()\n",
        "w2_val = w2.numpy()\n",
        "b_val = b.numpy()\n",
        "\n",
        "if w2_val != 0:\n",
        "    y_vals = (-w1_val * x_vals - b_val) / w2_val\n",
        "    plt.plot(x_vals, y_vals, 'k--', label='Decision Boundary')\n",
        "else:\n",
        "    plt.axvline(-b_val / w1_val, color='k', linestyle='--', label='Decision Boundary')\n",
        "\n",
        "plt.xlabel(\"x1\")\n",
        "plt.ylabel(\"x2\")\n",
        "plt.title(\"Perceptron Decision Boundary for AND Gate\")\n",
        "plt.grid(True)\n",
        "plt.legend()\n",
        "plt.show()\n"
      ],
      "metadata": {
        "colab": {
          "base_uri": "https://localhost:8080/",
          "height": 472
        },
        "id": "MCj_xVCub3lo",
        "outputId": "ba7da5c8-9e3c-490f-98b8-cce3cba0df94"
      },
      "execution_count": null,
      "outputs": [
        {
          "output_type": "display_data",
          "data": {
            "text/plain": [
              "<Figure size 640x480 with 1 Axes>"
            ],
            "image/png": "[encoded data removed]"
          },
          "metadata": {}
        }
      ]
    }
  ]
}