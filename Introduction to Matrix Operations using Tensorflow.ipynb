{
  "nbformat": 4,
  "nbformat_minor": 0,
  "metadata": {
    "colab": {
      "provenance": [],
      "authorship_tag": "ABX9TyNMQ9cAeiktLL9CjF6N/7sN",
      "include_colab_link": true
    },
    "kernelspec": {
      "name": "python3",
      "display_name": "Python 3"
    },
    "language_info": {
      "name": "python"
    }
  },
  "cells": [
    {
      "cell_type": "markdown",
      "metadata": {
        "id": "view-in-github",
        "colab_type": "text"
      },
      "source": [
        "<a href=\"https://colab.research.google.com/github/Jay-D21/Deep-Learning/blob/main/Introduction%20to%20Matrix%20Operations%20using%20Tensorflow.ipynb\" target=\"_parent\"><img src=\"https://colab.research.google.com/assets/colab-badge.svg\" alt=\"Open In Colab\"/></a>"
      ]
    },
    {
      "cell_type": "markdown",
      "source": [
        "#Importing Important Library/Package"
      ],
      "metadata": {
        "id": "HJu1PG0cSjsl"
      }
    },
    {
      "cell_type": "code",
      "execution_count": null,
      "metadata": {
        "id": "KMYVHDAYOQWs"
      },
      "outputs": [],
      "source": [
        "import tensorflow as tf"
      ]
    },
    {
      "cell_type": "markdown",
      "source": [
        "#Task 2: Basic Operation\n"
      ],
      "metadata": {
        "id": "bEQ9-TQkSTF3"
      }
    },
    {
      "cell_type": "code",
      "source": [
        "tensor_a = tf.constant([[7,9],[5,3]], dtype = tf.float32)\n",
        "tensor_b = tf.constant([[2,6],[8,4]], dtype = tf.float32)\n",
        "\n",
        "#Addition\n",
        "addition_result = tf.add(tensor_a, tensor_b)\n",
        "\n",
        "print(addition_result.numpy())"
      ],
      "metadata": {
        "colab": {
          "base_uri": "https://localhost:8080/"
        },
        "id": "QWq2dg0pSerO",
        "outputId": "500a695f-fde8-49ae-a6ab-1602a66b8c0b"
      },
      "execution_count": null,
      "outputs": [
        {
          "output_type": "stream",
          "name": "stdout",
          "text": [
            "[[ 9. 15.]\n",
            " [13.  7.]]\n"
          ]
        }
      ]
    },
    {
      "cell_type": "code",
      "source": [
        "#subtraction\n",
        "subtraction_result = tf.subtract(tensor_a, tensor_b)\n",
        "\n",
        "print(subtraction_result.numpy(), \"C233\")"
      ],
      "metadata": {
        "colab": {
          "base_uri": "https://localhost:8080/"
        },
        "id": "UK3_ZGbbUBEO",
        "outputId": "045672aa-4cb0-4cef-b296-e090778264e4"
      },
      "execution_count": null,
      "outputs": [
        {
          "output_type": "stream",
          "name": "stdout",
          "text": [
            "[[ 5.  3.]\n",
            " [-3. -1.]] C233\n"
          ]
        }
      ]
    },
    {
      "cell_type": "code",
      "source": [
        "#Multiplication\n",
        "multiplication_result = tf.multiply(tensor_a, tensor_b)\n",
        "\n",
        "print(multiplication_result.numpy())"
      ],
      "metadata": {
        "colab": {
          "base_uri": "https://localhost:8080/"
        },
        "id": "FgyhqwBUUpg2",
        "outputId": "53d6a942-3298-4d32-bf24-109f0b402a2c"
      },
      "execution_count": null,
      "outputs": [
        {
          "output_type": "stream",
          "name": "stdout",
          "text": [
            "[[14. 54.]\n",
            " [40. 12.]]\n"
          ]
        }
      ]
    },
    {
      "cell_type": "code",
      "source": [
        "#Devision\n",
        "division_result = tf.divide(tensor_a, tensor_b)\n",
        "\n",
        "print(division_result.numpy())"
      ],
      "metadata": {
        "colab": {
          "base_uri": "https://localhost:8080/"
        },
        "id": "tHSPrXbgU2O2",
        "outputId": "22c04052-37ea-47a4-953d-11bcaba90b05"
      },
      "execution_count": null,
      "outputs": [
        {
          "output_type": "stream",
          "name": "stdout",
          "text": [
            "[[3.5   1.5  ]\n",
            " [0.625 0.75 ]]\n"
          ]
        }
      ]
    },
    {
      "cell_type": "code",
      "source": [
        "from functools import reduce\n",
        "reduce_mean_a = tf.reduce_mean(tensor_a)\n",
        "reduce_mean_b = tf.reduce_mean(tensor_b)\n",
        "\n",
        "\n",
        "print(reduce_mean_a.numpy(),\"\\n\",reduce_mean_b.numpy())"
      ],
      "metadata": {
        "colab": {
          "base_uri": "https://localhost:8080/"
        },
        "id": "ZasjSorWU6jl",
        "outputId": "146073f7-3d05-433b-d549-bcdf98fb2455"
      },
      "execution_count": null,
      "outputs": [
        {
          "output_type": "stream",
          "name": "stdout",
          "text": [
            "6.0 \n",
            " 5.0\n"
          ]
        }
      ]
    },
    {
      "cell_type": "code",
      "source": [
        "reduce_sum_a = tf.reduce_sum(tensor_a)\n",
        "reduce_sum_b = tf.reduce_sum(tensor_b)\n",
        "\n",
        "print(reduce_sum_a.numpy(),\"\\n\",reduce_sum_b.numpy())"
      ],
      "metadata": {
        "colab": {
          "base_uri": "https://localhost:8080/"
        },
        "id": "YQSbknRlVxwp",
        "outputId": "2bcd2373-9062-4523-daca-6779fd456001"
      },
      "execution_count": null,
      "outputs": [
        {
          "output_type": "stream",
          "name": "stdout",
          "text": [
            "24.0 \n",
            " 20.0\n"
          ]
        }
      ]
    },
    {
      "cell_type": "code",
      "source": [
        "reduce_sum0 = tf.reduce_sum(tensor_a, axis = 0)\n",
        "reduce_sum1 = tf.reduce_sum(tensor_b, axis = 1)\n",
        "\n",
        "print(reduce_sum0.numpy())\n",
        "print(reduce_sum1.numpy())"
      ],
      "metadata": {
        "colab": {
          "base_uri": "https://localhost:8080/"
        },
        "id": "458cKKCiWbSX",
        "outputId": "89e829b3-d6fb-45dc-a32b-601739c33c0a"
      },
      "execution_count": null,
      "outputs": [
        {
          "output_type": "stream",
          "name": "stdout",
          "text": [
            "[12. 12.]\n",
            "[ 8. 12.]\n"
          ]
        }
      ]
    },
    {
      "cell_type": "markdown",
      "source": [
        "#Task 3: Performing Linear Algebra Operations"
      ],
      "metadata": {
        "id": "YCFOJaDQXbRt"
      }
    },
    {
      "cell_type": "code",
      "source": [
        "import tensorflow as tf"
      ],
      "metadata": {
        "id": "-_-x-eccW8ce"
      },
      "execution_count": null,
      "outputs": []
    },
    {
      "cell_type": "code",
      "source": [
        "#Matrix Multiplication\n",
        "matrix_multiplication_result = tf.matmul(tensor_a, tensor_b)\n",
        "\n",
        "print(\"Matrix Multiplication Result:\")\n",
        "print(matrix_multiplication_result.numpy())"
      ],
      "metadata": {
        "colab": {
          "base_uri": "https://localhost:8080/"
        },
        "id": "ntDJA85DXq6F",
        "outputId": "a835951f-8c40-49bc-c06a-83425d20a925"
      },
      "execution_count": null,
      "outputs": [
        {
          "output_type": "stream",
          "name": "stdout",
          "text": [
            "Matrix Multiplication Result:\n",
            "[[86. 78.]\n",
            " [34. 42.]]\n"
          ]
        }
      ]
    },
    {
      "cell_type": "code",
      "source": [
        "#Transpose\n",
        "transpose_a = tf.transpose(tensor_a)\n",
        "transpose_b = tf.transpose(tensor_b)\n",
        "\n",
        "print(\"Transpose of tensor_a:\")\n",
        "print(transpose_a.numpy())\n",
        "\n",
        "print(\"Transpose of tensor_b:\")\n",
        "print(transpose_b.numpy())"
      ],
      "metadata": {
        "colab": {
          "base_uri": "https://localhost:8080/"
        },
        "id": "uG3F8y17XwOp",
        "outputId": "093c1a5c-8120-49ee-a9f2-72250a631d8d"
      },
      "execution_count": null,
      "outputs": [
        {
          "output_type": "stream",
          "name": "stdout",
          "text": [
            "Transpose of tensor_a:\n",
            "[[7. 5.]\n",
            " [9. 3.]]\n",
            "Transpose of tensor_b:\n",
            "[[2. 8.]\n",
            " [6. 4.]]\n"
          ]
        }
      ]
    },
    {
      "cell_type": "code",
      "source": [
        "#Determinant (for square Matrix)\n",
        "determinant = tf.linalg.det(tensor_a)\n",
        "\n",
        "print(\"Determinant of tensor_a:\")\n",
        "print(determinant.numpy())"
      ],
      "metadata": {
        "colab": {
          "base_uri": "https://localhost:8080/"
        },
        "id": "j5FS2BTrYWWN",
        "outputId": "407ae820-3011-4c92-cb19-d78cde2e39d2"
      },
      "execution_count": null,
      "outputs": [
        {
          "output_type": "stream",
          "name": "stdout",
          "text": [
            "Determinant of tensor_a:\n",
            "-24.0\n"
          ]
        }
      ]
    },
    {
      "cell_type": "code",
      "source": [
        "#Inverse (for invertable matrix)\n",
        "try:\n",
        "  inverse = tf.linalg.inv(tensor_a)\n",
        "  print(\"Inverse of tensor_a:\")\n",
        "  print(inverse.numpy())\n",
        "except tf.errors.InvalidArgumentError as e:\n",
        "  print(\"Error: Matrix is not invertable.\")"
      ],
      "metadata": {
        "colab": {
          "base_uri": "https://localhost:8080/"
        },
        "id": "CegyE089YfKV",
        "outputId": "54dca673-4a78-4487-adc1-a2f83256830a"
      },
      "execution_count": null,
      "outputs": [
        {
          "output_type": "stream",
          "name": "stdout",
          "text": [
            "Inverse of tensor_a:\n",
            "[[-0.125       0.37500003]\n",
            " [ 0.20833333 -0.29166666]]\n"
          ]
        }
      ]
    },
    {
      "cell_type": "markdown",
      "source": [
        "#Task 4: Derivative and Higher Order Derivative Using Gradient Tape"
      ],
      "metadata": {
        "id": "ri1s6djuaoxn"
      }
    },
    {
      "cell_type": "code",
      "source": [
        "x = tf.Variable(3.0)\n",
        "\n",
        "with tf.GradientTape(persistent = True) as tape:\n",
        "  #Defining function f(x) = x^3\n",
        "  f = x**3\n",
        "  #compute the first derivative\n",
        "  df_dx = tape.gradient(f, x)\n",
        "  #compute the second derivative\n",
        "  d2f_dx2 = tape.gradient(df_dx, x)\n",
        "\n",
        "\n",
        "print(f\"\\nf(x) at x = {x.numpy()}: {f.numpy()}\")\n",
        "print(f\"First derivative (df/dx) at x = {x.numpy()}: {df_dx.numpy()}\")\n",
        "print(f\"Second derivative (d2f/dx2) at x = {x.numpy()}: {d2f_dx2.numpy()}\")"
      ],
      "metadata": {
        "colab": {
          "base_uri": "https://localhost:8080/"
        },
        "id": "qz41klbdZq9B",
        "outputId": "91c41d31-7cf8-41a8-b5ee-3f490dea7759"
      },
      "execution_count": null,
      "outputs": [
        {
          "output_type": "stream",
          "name": "stderr",
          "text": [
            "WARNING:tensorflow:Calling GradientTape.gradient on a persistent tape inside its context is significantly less efficient than calling it outside the context (it causes the gradient ops to be recorded on the tape, leading to increased CPU and memory usage). Only call GradientTape.gradient inside the context if you actually want to trace the gradient in order to compute higher order derivatives.\n",
            "WARNING:tensorflow:Calling GradientTape.gradient on a persistent tape inside its context is significantly less efficient than calling it outside the context (it causes the gradient ops to be recorded on the tape, leading to increased CPU and memory usage). Only call GradientTape.gradient inside the context if you actually want to trace the gradient in order to compute higher order derivatives.\n"
          ]
        },
        {
          "output_type": "stream",
          "name": "stdout",
          "text": [
            "\n",
            "f(x) at x = 3.0: 27.0\n",
            "First derivative (df/dx) at x = 3.0: 27.0\n",
            "Second derivative (d2f/dx2) at x = 3.0: 18.0\n"
          ]
        }
      ]
    },
    {
      "cell_type": "markdown",
      "source": [
        "#Task 5: Compute WX+b using Tensorflow where W, X, and b are drawn from a random normal distribution. W is of shape (4, 3), X is (3,1) and b is (4,1)  "
      ],
      "metadata": {
        "id": "PcnoTWhheuPy"
      }
    },
    {
      "cell_type": "code",
      "source": [
        "# Compute WX+b using TensorFlow with randomly initialized tensors\n",
        "tf.random.set_seed(42)\n",
        "W = tf.random.normal(shape = (4, 3))\n",
        "X = tf.random.normal(shape = (3, 1))\n",
        "b = tf.random.normal(shape = (4, 1))\n",
        "\n",
        "result = tf.matmul(W, X) + b\n",
        "\n",
        "print(\"W:\\n\", W.numpy())\n",
        "print(\"\\nX:\\n\", X.numpy())\n",
        "print(\"\\nb:\\n\", b.numpy())\n",
        "print(\"\\nResult:\\n\", result.numpy())"
      ],
      "metadata": {
        "colab": {
          "base_uri": "https://localhost:8080/"
        },
        "id": "sxZcyB_gcb4B",
        "outputId": "c93052db-a183-4816-aafa-906d03901beb"
      },
      "execution_count": null,
      "outputs": [
        {
          "output_type": "stream",
          "name": "stdout",
          "text": [
            "W:\n",
            " [[ 0.3274685  -0.8426258   0.3194337 ]\n",
            " [-1.4075519  -2.3880599  -1.0392479 ]\n",
            " [-0.5573232   0.539707    1.6994323 ]\n",
            " [ 0.28893656 -1.5066116  -0.26454744]]\n",
            "\n",
            "X:\n",
            " [[ 0.08422458]\n",
            " [-0.86090374]\n",
            " [ 0.37812304]]\n",
            "\n",
            "b:\n",
            " [[-0.55909735]\n",
            " [-0.5347214 ]\n",
            " [ 2.3730333 ]\n",
            " [-1.5725931 ]]\n",
            "\n",
            "Result:\n",
            " [[ 0.3146885]\n",
            " [ 1.0096543]\n",
            " [ 2.5040517]\n",
            " [-0.3512416]]\n"
          ]
        }
      ]
    },
    {
      "cell_type": "markdown",
      "source": [
        "#Task 6: Compute Gradient of sigmoid function using Tensor flow"
      ],
      "metadata": {
        "id": "IMv9CODuhllN"
      }
    },
    {
      "cell_type": "code",
      "metadata": {
        "colab": {
          "base_uri": "https://localhost:8080/"
        },
        "id": "e24f80d9",
        "outputId": "6d97a86f-0660-470e-a8e0-d6e00d3dfcdc"
      },
      "source": [
        "# Compute the gradient of the sigmoid function\n",
        "x = tf.Variable(0.0)\n",
        "\n",
        "with tf.GradientTape() as tape:\n",
        "  sigmoid_x = tf.sigmoid(x)\n",
        "\n",
        "gradient_of_sigmoid = tape.gradient(sigmoid_x, x)\n",
        "\n",
        "print(f\"The gradient of the sigmoid function at x = {x.numpy()} is: {gradient_of_sigmoid.numpy()}\")"
      ],
      "execution_count": null,
      "outputs": [
        {
          "output_type": "stream",
          "name": "stdout",
          "text": [
            "The gradient of the sigmoid function at x = 0.0 is: 0.25\n"
          ]
        }
      ]
    },
    {
      "cell_type": "code",
      "source": [
        "x = tf.Variable(0.0)\n",
        "\n",
        "with tf.GradientTape() as tape:\n",
        "  sigmoid_x = 1 / (1 + tf.exp(-x))\n",
        "\n",
        "gradient_of_sigmoid = tape.gradient(sigmoid_x, x)\n",
        "\n",
        "print(f\"The gradient of the sigmoid function at x = {x.numpy()} is: {gradient_of_sigmoid.numpy()}\")"
      ],
      "metadata": {
        "colab": {
          "base_uri": "https://localhost:8080/"
        },
        "id": "cS4JEGfVhs0N",
        "outputId": "d7d4d551-9f33-4e27-aefa-a26fbdd8f21e"
      },
      "execution_count": null,
      "outputs": [
        {
          "output_type": "stream",
          "name": "stdout",
          "text": [
            "The gradient of the sigmoid function at x = 0.0 is: 0.25\n"
          ]
        }
      ]
    },
    {
      "cell_type": "code",
      "source": [],
      "metadata": {
        "id": "x_FD_sqZioUH"
      },
      "execution_count": null,
      "outputs": []
    }
  ]
}