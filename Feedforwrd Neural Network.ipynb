{
  "nbformat": 4,
  "nbformat_minor": 0,
  "metadata": {
    "colab": {
      "provenance": [],
      "authorship_tag": "ABX9TyN0I2xgUut8k1y7ASRiNXB0",
      "include_colab_link": true
    },
    "kernelspec": {
      "name": "python3",
      "display_name": "Python 3"
    },
    "language_info": {
      "name": "python"
    }
  },
  "cells": [
    {
      "cell_type": "markdown",
      "metadata": {
        "id": "view-in-github",
        "colab_type": "text"
      },
      "source": [
        "<a href=\"https://colab.research.google.com/github/Jay-D21/Deep-Learning/blob/main/Feedforwrd%20Neural%20Network.ipynb\" target=\"_parent\"><img src=\"https://colab.research.google.com/assets/colab-badge.svg\" alt=\"Open In Colab\"/></a>"
      ]
    },
    {
      "cell_type": "markdown",
      "source": [
        "**Building a Feedforwrd Neural Network.**"
      ],
      "metadata": {
        "id": "TXjiVhVHVv-E"
      }
    },
    {
      "cell_type": "markdown",
      "source": [
        "#Importing important libraries C233"
      ],
      "metadata": {
        "id": "4_8B30mcV73D"
      }
    },
    {
      "cell_type": "code",
      "execution_count": null,
      "metadata": {
        "id": "Ru8pl93UTJlC"
      },
      "outputs": [],
      "source": [
        "import tensorflow as tf\n",
        "import numpy as np"
      ]
    },
    {
      "cell_type": "markdown",
      "source": [
        "#Three-layer feed forward neural network from scratch by initializing weights and biases given in digram."
      ],
      "metadata": {
        "id": "hfIu9jyAcx3K"
      }
    },
    {
      "cell_type": "code",
      "source": [
        "#input of hidden weights: shape(2,2)\n",
        "W_input_hidden = tf.constant([[0.15, 0.25], #i1 to h1, h2\n",
        "                              [0.20, 0.30]], #i2 to h1, h2\n",
        "                             dtype=tf.float32)\n",
        "\n",
        "b_hidden = tf.constant([0.35, 0.35], dtype=tf.float32) #bias for h1 and h2\n",
        "\n",
        "# hidden to output weights: shape(2,2)\n",
        "\n",
        "W_hidden_output = tf.constant([[0.40, 0.47], #h1 to o1, o2\n",
        "                               [0.50, 0.55]], #h2 to o1, o2\n",
        "                              dtype=tf.float32)\n",
        "\n",
        "b_output = tf.constant([0.60, 0.60], dtype=tf.float32) #bias for o1 and o2"
      ],
      "metadata": {
        "id": "p_tP0jZjWLyb"
      },
      "execution_count": null,
      "outputs": []
    },
    {
      "cell_type": "code",
      "source": [
        "def sigmoid(x):\n",
        "  return tf.math.sigmoid(x)\n",
        "\n",
        "def compute_error(output, target):\n",
        "  return 0.5 * tf.reduce_sum(tf.square(output - target))"
      ],
      "metadata": {
        "id": "cANpKbA7cTds"
      },
      "execution_count": null,
      "outputs": []
    },
    {
      "cell_type": "code",
      "source": [
        "def feedforward(x, W_ih, b_h, W_ho, b_o):\n",
        "  # forward pass\n",
        "  # Reshape input for matrix multiplication\n",
        "  x_reshaped = tf.reshape(x, (1, -1))\n",
        "  h_input = tf.matmul(x_reshaped, W_ih) + b_h\n",
        "  h_output = sigmoid(h_input)\n",
        "  o_input = tf.matmul(h_output, W_ho) + b_o\n",
        "  o_output = sigmoid(o_input)\n",
        "  # Squeeze the output back to the original shape (remove the batch dimension)\n",
        "  return tf.squeeze(o_output, axis = 0)"
      ],
      "metadata": {
        "id": "j7YKR2V9cXzD"
      },
      "execution_count": null,
      "outputs": []
    },
    {
      "cell_type": "markdown",
      "source": [
        "#Computing total squared error."
      ],
      "metadata": {
        "id": "8LJuRzd-fSnB"
      }
    },
    {
      "cell_type": "code",
      "source": [
        "x_input = tf.constant([0.05, 0.10], dtype=tf.float32)\n",
        "target_output = tf.constant([0.01, 0.99], dtype=tf.float32)\n",
        "output_original = feedforward(x_input, W_input_hidden, b_hidden, W_hidden_output, b_output)\n",
        "error_original = compute_error(output_original, target_output)"
      ],
      "metadata": {
        "id": "AWDapopzbBjc"
      },
      "execution_count": null,
      "outputs": []
    },
    {
      "cell_type": "code",
      "source": [
        "print(f\"Output o1: {output_original[0].numpy():5f}\")\n",
        "print(f\"Output o2: {output_original[1].numpy():5f}\")\n",
        "print(\"Total Squared Error (original Weights):\", error_original.numpy())"
      ],
      "metadata": {
        "colab": {
          "base_uri": "https://localhost:8080/"
        },
        "id": "EPsstNUjbRWG",
        "outputId": "c4085efd-920e-4a01-e607-f37adca0e8cc"
      },
      "execution_count": null,
      "outputs": [
        {
          "output_type": "stream",
          "name": "stdout",
          "text": [
            "Output o1: 0.756899\n",
            "Output o2: 0.769790\n",
            "Total Squared Error (original Weights): 0.303175\n"
          ]
        }
      ]
    },
    {
      "cell_type": "markdown",
      "source": [
        "#Changed the initial weights and biases and computed the error again."
      ],
      "metadata": {
        "id": "01idaeDBfYQn"
      }
    },
    {
      "cell_type": "code",
      "source": [
        "#input of hidden weights: shape(2,2)\n",
        "W_input_hidden = tf.constant([[0.1, 0.4], #i1 to h1, h2\n",
        "                              [0.8, 0.6]], #i2 to h1, h2\n",
        "                             dtype=tf.float32)\n",
        "\n",
        "b_hidden = tf.constant([0, 0], dtype=tf.float32) #bias for h1 and h2\n",
        "\n",
        "# hidden to output weights: shape(2,1)\n",
        "\n",
        "W_hidden_output = tf.constant([[0.3], [0.9]], #h1 h2 to output\n",
        "                              dtype=tf.float32)\n",
        "\n",
        "b_output = tf.constant([0], dtype=tf.float32) #bias for o1 and o2"
      ],
      "metadata": {
        "id": "5gJmVk6bgl6o"
      },
      "execution_count": null,
      "outputs": []
    },
    {
      "cell_type": "code",
      "source": [
        "x_input = tf.constant([0.35, 0.9], dtype=tf.float32)\n",
        "target_output = tf.constant([0.8], dtype=tf.float32)\n",
        "output_original = feedforward(x_input, W_input_hidden, b_hidden, W_hidden_output, b_output)\n",
        "error_original = compute_error(output_original, target_output)"
      ],
      "metadata": {
        "id": "kNdcd1oXj3R-"
      },
      "execution_count": null,
      "outputs": []
    },
    {
      "cell_type": "code",
      "metadata": {
        "colab": {
          "base_uri": "https://localhost:8080/"
        },
        "id": "cdbafebb",
        "outputId": "3bdad980-6125-49f6-e8a6-36812fa6f60f"
      },
      "source": [
        "print(f\"Output o1: {output_original[0].numpy():5f}\")\n",
        "print(\"Total Squared Error (original Weights):\", error_original.numpy())"
      ],
      "execution_count": null,
      "outputs": [
        {
          "output_type": "stream",
          "name": "stdout",
          "text": [
            "Output o1: 0.690283\n",
            "Total Squared Error (original Weights): 0.006018859\n"
          ]
        }
      ]
    },
    {
      "cell_type": "markdown",
      "source": [
        "#Adding one more hidden neuron in the middle layer and comparing the error."
      ],
      "metadata": {
        "id": "Hq2jqnY2lRzz"
      }
    },
    {
      "cell_type": "code",
      "source": [
        "#input of hidden weights: shape(2,3)\n",
        "W_input_hidden = tf.constant([[0.15, 0.25, 0.40], #i1 to h1, h2, h3\n",
        "                              [0.20, 0.30, 0.45]], #i2 to h1, h2, h3\n",
        "                             dtype=tf.float32)\n",
        "\n",
        "b_hidden = tf.constant([0.35, 0.35, 0.35], dtype=tf.float32) #bias for h1 , h2 and h3\n",
        "\n",
        "# hidden to output weights: shape(3,2)\n",
        "\n",
        "W_hidden_output = tf.constant([[0.40, 0.47], #h1 to o1, o2\n",
        "                               [0.50, 0.55], #h2 to o1, o2\n",
        "                               [0.35, 0.25]], #h3 to o1, o2\n",
        "                              dtype=tf.float32)\n",
        "\n",
        "b_output = tf.constant([0.60, 0.60], dtype=tf.float32) #bias for o1 and o2"
      ],
      "metadata": {
        "id": "LO-_yMmDmdi7"
      },
      "execution_count": null,
      "outputs": []
    },
    {
      "cell_type": "code",
      "source": [
        "x_input = tf.constant([0.05, 0.10], dtype=tf.float32)\n",
        "target_output = tf.constant([0.01, 0.99], dtype=tf.float32)\n",
        "output_original = feedforward(x_input, W_input_hidden, b_hidden, W_hidden_output, b_output)\n",
        "error_original = compute_error(output_original, target_output)"
      ],
      "metadata": {
        "id": "QCxcQkZLncms"
      },
      "execution_count": null,
      "outputs": []
    },
    {
      "cell_type": "code",
      "source": [
        "print(f\"Output o1: {output_original[0].numpy():5f}\")\n",
        "print(f\"Output o2: {output_original[1].numpy():5f}\")\n",
        "print(\"Total Squared Error (original Weights):\", error_original.numpy())"
      ],
      "metadata": {
        "colab": {
          "base_uri": "https://localhost:8080/"
        },
        "id": "f6RLN-iun5cs",
        "outputId": "b30207ab-d170-4833-deba-6453d1050fcd"
      },
      "execution_count": null,
      "outputs": [
        {
          "output_type": "stream",
          "name": "stdout",
          "text": [
            "Output o1: 0.793565\n",
            "Output o2: 0.795385\n",
            "Total Squared Error (original Weights): 0.32592475\n"
          ]
        }
      ]
    }
  ]
}